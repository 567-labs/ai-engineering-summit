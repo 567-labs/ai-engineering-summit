{
 "cells": [
  {
   "cell_type": "markdown",
   "metadata": {},
   "source": [
    "# Notebook 3 : Metadata-Enhanced Retrieval\n",
    "\n",
    "> **Note** : This notebook is a preview of what we cover in [improvingrag.com](https://improvingrag.com). Stop settling for \"Looks Good to Me\" and start building better systems. Learn how to turn RAG from a risky experiment into a structured, data-driven practice. Check out [improvingrag.com](https://improvingrag.com) for a proven foundational framework to help you go beyond the basics to improve performance, quality, and user experience. \n",
    "\n",
    "In this notebook, we'll explore how to incorporate LLM-generated metadata into retrieval systems to enhance precision and relevance. While semantic search helps find related content, structured metadata like product categories, types, and attributes provides crucial guardrails that align results with user intent. By combining both approaches, we can build more precise and reliable search experiences.\n",
    "\n",
    "## Why this matters\n",
    "\n",
    "Even the best retrieval systems can benefit from context. When users search for products, they often have specific requirements beyond semantic relevance - like price ranges, materials, or occasions. While semantic search helps find relevant items, structured metadata ensures results match specific criteria. Manual metadata tagging is expensive and inconsistent, but language models offer a fast, scalable way to generate this metadata automatically.\n",
    "\n",
    "## What you'll learn\n",
    "\n",
    "In this notebook, you will learn to:\n",
    "\n",
    "1. Implement Metadata Filtering\n",
    "   - Map user queries to structured metadata using a predefined taxonomy.\n",
    "   - Validate and apply filters to refine the set of candidate items for retrieval.\n",
    "\n",
    "2. Quantify Retrieval Improvements\n",
    "   - Evaluate the impact of metadata filtering on performance using key metrics (Recall and MRR).\n",
    "   - Compare baseline results with enhanced outcomes to understand measurable gains.\n",
    "\n",
    "3. Enhance Item Descriptions with Metadata\n",
    "   - Integrate rich metadata into item descriptions for better semantic matching.\n",
    "   - Leverage enriched data to drive more accurate and relevant retrieval results.\n",
    "\n",
    "By the end of this notebook, you'll have a clear, data-driven approach to elevating your retrieval system—transforming it from a simple search mechanism into a finely tuned, precision tool that consistently delivers improved performance."
   ]
  },
  {
   "cell_type": "markdown",
   "metadata": {},
   "source": [
    "## Using Metadata Fields for filtering\n",
    "\n",
    "In this section, we'll see how we can leverage query understanding to map user queries into metadata filters that we can apply on our retrieved items. To make things easier, we'll be using the `instructor` library which provides structured outputs from LLM responses. With its in-built jinja support, we can use the same values for validating the generated filters and formatting our prompt itself. This makes it easy to iterate on our prompt and build in complex validation.\n",
    "\n",
    "It's worth noting that metadata filtering is just one piece of building robust retrieval systems. While we focus on product search here, similar principles apply whether you're searching documentation, routing support tickets, or selecting tools - you need structured ways to narrow results based on user intent.\n",
    "\n",
    "\n",
    "### Defining Our Metadata Taxonomy\n",
    "\n",
    "In order for us to map our user queries to a set of known fields, we'll be using a taxonomy that we've defined at `taxonomy.yml`.  This taxonomy lists categories (like ‘Tops’ and ‘Bottoms’), product types, and key attributes (such as ‘Sleeve Length’). This structure helps us filter and refine search results to better match what the user is looking for.\n",
    "\n",
    "For instance, a T-shirt with a crew neck might be classified as\n",
    "\n",
    "- Category : Top\n",
    "- Product Type : T-Shirt\n",
    "- Attributes : ['crew neck', 'short sleeve']\n",
    "\n",
    "By mapping a user query to a set of these known fields that our items have been annotated with, we can then use the known fields to filter the retrieved items on. By doing so, we can narrow down the scope of the search and improve the precision of our retrieval system.\n",
    "\n",
    "We'll start by loading in the taxonomy data and printing out the keys to see what we have available to us."
   ]
  },
  {
   "cell_type": "code",
   "execution_count": 1,
   "metadata": {},
   "outputs": [
    {
     "data": {
      "text/plain": [
       "dict_keys(['Tops', 'Bottoms', 'Dresses', 'Outerwear'])"
      ]
     },
     "execution_count": 1,
     "metadata": {},
     "output_type": "execute_result"
    }
   ],
   "source": [
    "from helpers.taxonomy import process_taxonomy_file\n",
    "\n",
    "taxonomy_map = process_taxonomy_file(\"./data/taxonomy.yml\")\n",
    "taxonomy_map.keys()"
   ]
  },
  {
   "cell_type": "markdown",
   "metadata": {},
   "source": [
    "We'll then print out the `Tops` category to see what we have available to us."
   ]
  },
  {
   "cell_type": "code",
   "execution_count": 3,
   "metadata": {},
   "outputs": [
    {
     "data": {
      "text/html": [
       "<pre style=\"white-space:pre;overflow-x:auto;line-height:normal;font-family:Menlo,'DejaVu Sans Mono',consolas,'Courier New',monospace\"><span style=\"font-weight: bold\">{</span>\n",
       "    <span style=\"color: #008000; text-decoration-color: #008000\">'product_type'</span>: <span style=\"font-weight: bold\">[</span><span style=\"color: #008000; text-decoration-color: #008000\">'T-Shirts'</span>, <span style=\"color: #008000; text-decoration-color: #008000\">'Blouses'</span>, <span style=\"color: #008000; text-decoration-color: #008000\">'Sweaters'</span>, <span style=\"color: #008000; text-decoration-color: #008000\">'Cardigans'</span>, <span style=\"color: #008000; text-decoration-color: #008000\">'Tank Tops'</span>, <span style=\"color: #008000; text-decoration-color: #008000\">'Hoodies'</span>, <span style=\"color: #008000; text-decoration-color: #008000\">'Sweatshirts'</span><span style=\"font-weight: bold\">]</span>,\n",
       "    <span style=\"color: #008000; text-decoration-color: #008000\">'attributes'</span>: <span style=\"font-weight: bold\">{</span>\n",
       "        <span style=\"color: #008000; text-decoration-color: #008000\">'Sleeve Length'</span>: <span style=\"font-weight: bold\">[</span><span style=\"color: #008000; text-decoration-color: #008000\">'Sleeveless'</span>, <span style=\"color: #008000; text-decoration-color: #008000\">'Short Sleeve'</span>, <span style=\"color: #008000; text-decoration-color: #008000\">'3/4 Sleeve'</span>, <span style=\"color: #008000; text-decoration-color: #008000\">'Long Sleeve'</span><span style=\"font-weight: bold\">]</span>,\n",
       "        <span style=\"color: #008000; text-decoration-color: #008000\">'Neckline'</span>: <span style=\"font-weight: bold\">[</span><span style=\"color: #008000; text-decoration-color: #008000\">'Crew Neck'</span>, <span style=\"color: #008000; text-decoration-color: #008000\">'V-Neck'</span>, <span style=\"color: #008000; text-decoration-color: #008000\">'Turtleneck'</span>, <span style=\"color: #008000; text-decoration-color: #008000\">'Scoop Neck'</span>, <span style=\"color: #008000; text-decoration-color: #008000\">'Cowl Neck'</span><span style=\"font-weight: bold\">]</span>,\n",
       "        <span style=\"color: #008000; text-decoration-color: #008000\">'Fit'</span>: <span style=\"font-weight: bold\">[</span><span style=\"color: #008000; text-decoration-color: #008000\">'Regular'</span>, <span style=\"color: #008000; text-decoration-color: #008000\">'Slim'</span>, <span style=\"color: #008000; text-decoration-color: #008000\">'Oversized'</span>, <span style=\"color: #008000; text-decoration-color: #008000\">'Cropped'</span><span style=\"font-weight: bold\">]</span>\n",
       "    <span style=\"font-weight: bold\">}</span>\n",
       "<span style=\"font-weight: bold\">}</span>\n",
       "</pre>\n"
      ],
      "text/plain": [
       "\u001b[1m{\u001b[0m\n",
       "    \u001b[32m'product_type'\u001b[0m: \u001b[1m[\u001b[0m\u001b[32m'T-Shirts'\u001b[0m, \u001b[32m'Blouses'\u001b[0m, \u001b[32m'Sweaters'\u001b[0m, \u001b[32m'Cardigans'\u001b[0m, \u001b[32m'Tank Tops'\u001b[0m, \u001b[32m'Hoodies'\u001b[0m, \u001b[32m'Sweatshirts'\u001b[0m\u001b[1m]\u001b[0m,\n",
       "    \u001b[32m'attributes'\u001b[0m: \u001b[1m{\u001b[0m\n",
       "        \u001b[32m'Sleeve Length'\u001b[0m: \u001b[1m[\u001b[0m\u001b[32m'Sleeveless'\u001b[0m, \u001b[32m'Short Sleeve'\u001b[0m, \u001b[32m'3/4 Sleeve'\u001b[0m, \u001b[32m'Long Sleeve'\u001b[0m\u001b[1m]\u001b[0m,\n",
       "        \u001b[32m'Neckline'\u001b[0m: \u001b[1m[\u001b[0m\u001b[32m'Crew Neck'\u001b[0m, \u001b[32m'V-Neck'\u001b[0m, \u001b[32m'Turtleneck'\u001b[0m, \u001b[32m'Scoop Neck'\u001b[0m, \u001b[32m'Cowl Neck'\u001b[0m\u001b[1m]\u001b[0m,\n",
       "        \u001b[32m'Fit'\u001b[0m: \u001b[1m[\u001b[0m\u001b[32m'Regular'\u001b[0m, \u001b[32m'Slim'\u001b[0m, \u001b[32m'Oversized'\u001b[0m, \u001b[32m'Cropped'\u001b[0m\u001b[1m]\u001b[0m\n",
       "    \u001b[1m}\u001b[0m\n",
       "\u001b[1m}\u001b[0m\n"
      ]
     },
     "metadata": {},
     "output_type": "display_data"
    }
   ],
   "source": [
    "from rich import print\n",
    "\n",
    "print(taxonomy_map[\"Tops\"])"
   ]
  },
  {
   "cell_type": "markdown",
   "metadata": {},
   "source": [
    "Now that we've understood what our taxonomy looks like, let's take a look at how we can define this taxonomy as a response model."
   ]
  },
  {
   "cell_type": "markdown",
   "metadata": {},
   "source": [
    "### Defining Our Response Model"
   ]
  },
  {
   "cell_type": "markdown",
   "metadata": {},
   "source": [
    "We can see that for each individual category - `Tops`, `Bottoms`, `Dresses`, `Skirts` etc, we have a set of metadata fields that we can use to filter our items.\n",
    "\n",
    "Defining these in a `.yaml` file is a flexible way to leverage the expertise of domain experts to define these metdata fields. We can then read these fields and values in at run-time and them to generate metadata filters that we can then apply on our retrieval system.\n",
    "\n",
    "In the code below, we've defined a `QueryFilters` model that we'll use to generate metadata filters from a user query, ensuring that we conform to the taxonomy we've defined with the aid of a `field_validator` that we'll use to check the extracted metadata filters. \n",
    "\n",
    "Notice here how we're using the `info:ValidationInfo` context to pass in the taxonomy data to the LLM when we're generating the metadata filters."
   ]
  },
  {
   "cell_type": "code",
   "execution_count": 4,
   "metadata": {},
   "outputs": [],
   "source": [
    "from typing import Optional\n",
    "from pydantic import BaseModel, model_validator, ValidationInfo\n",
    "\n",
    "\n",
    "class Attribute(BaseModel):\n",
    "    name: str\n",
    "    values: list[str]\n",
    "\n",
    "\n",
    "class QueryFilters(BaseModel):\n",
    "    attributes: list[Attribute]\n",
    "    min_price: Optional[float] = None\n",
    "    max_price: Optional[float] = None\n",
    "    category: str\n",
    "    product_type: list[str]\n",
    "\n",
    "    @model_validator(mode=\"after\")\n",
    "    def validate_attributes(self, info: ValidationInfo):\n",
    "        taxonomy_data = info.context[\"taxonomy_data\"]\n",
    "        # Validate category exists in taxonomy\n",
    "        if self.category not in taxonomy_data:\n",
    "            raise ValueError(\n",
    "                f\"Invalid category: {self.category}. Valid categories are {taxonomy_data.keys()}\"\n",
    "            )\n",
    "\n",
    "        # Validate product types\n",
    "        valid_types = taxonomy_data[self.category][\"product_type\"]\n",
    "        for product_type in self.product_type:\n",
    "            if product_type not in valid_types:\n",
    "                raise ValueError(\n",
    "                    f\"Invalid product type: {product_type}. Valid product types are {valid_types}\"\n",
    "                )\n",
    "\n",
    "        # Validate attribute exists in taxonomy\n",
    "        valid_attrs = taxonomy_data[self.category][\"attributes\"]\n",
    "        for attr in self.attributes:\n",
    "            if attr.name not in valid_attrs:\n",
    "                raise ValueError(f\"Invalid attribute name: {attr.name}\")\n",
    "            for value in attr.values:\n",
    "                if value not in valid_attrs[attr.name]:\n",
    "                    raise ValueError(\n",
    "                        f\"Invalid value {value} for attribute {attr.name}. Valid values are {valid_attrs[attr.name]}\"\n",
    "                    )\n",
    "\n",
    "        return self"
   ]
  },
  {
   "cell_type": "markdown",
   "metadata": {},
   "source": [
    "With our response model and taxonomy in place, we can now tackle the core challenge - translating natural language queries into structured filters. Let's see this in action in the next section."
   ]
  },
  {
   "cell_type": "code",
   "execution_count": null,
   "metadata": {},
   "outputs": [],
   "source": []
  },
  {
   "cell_type": "markdown",
   "metadata": {},
   "source": [
    "### Query Understanding\n",
    "\n",
    "Now that we've defined our response model, we can use it to generate a metadata filter for our user queries. \n",
    "\n",
    "We'll see an example below where we're using the `context` parameter to pass in the taxonomy data as a variable called `taxonomy_data`. We can then reference this in both our prompt and our field_validator above with the help of `instructor` that ships with inbuilt support for jinja templating.\n"
   ]
  },
  {
   "cell_type": "code",
   "execution_count": 5,
   "metadata": {},
   "outputs": [
    {
     "data": {
      "text/html": [
       "<pre style=\"white-space:pre;overflow-x:auto;line-height:normal;font-family:Menlo,'DejaVu Sans Mono',consolas,'Courier New',monospace\"><span style=\"color: #800080; text-decoration-color: #800080; font-weight: bold\">QueryFilters</span><span style=\"font-weight: bold\">(</span><span style=\"color: #808000; text-decoration-color: #808000\">attributes</span>=<span style=\"font-weight: bold\">[]</span>, <span style=\"color: #808000; text-decoration-color: #808000\">min_price</span>=<span style=\"color: #008080; text-decoration-color: #008080; font-weight: bold\">0.0</span>, <span style=\"color: #808000; text-decoration-color: #808000\">max_price</span>=<span style=\"color: #008080; text-decoration-color: #008080; font-weight: bold\">40.0</span>, <span style=\"color: #808000; text-decoration-color: #808000\">category</span>=<span style=\"color: #008000; text-decoration-color: #008000\">'Bottoms'</span>, <span style=\"color: #808000; text-decoration-color: #808000\">product_type</span>=<span style=\"font-weight: bold\">[</span><span style=\"color: #008000; text-decoration-color: #008000\">'Skirts'</span><span style=\"font-weight: bold\">])</span>\n",
       "</pre>\n"
      ],
      "text/plain": [
       "\u001b[1;35mQueryFilters\u001b[0m\u001b[1m(\u001b[0m\u001b[33mattributes\u001b[0m=\u001b[1m[\u001b[0m\u001b[1m]\u001b[0m, \u001b[33mmin_price\u001b[0m=\u001b[1;36m0\u001b[0m\u001b[1;36m.0\u001b[0m, \u001b[33mmax_price\u001b[0m=\u001b[1;36m40\u001b[0m\u001b[1;36m.0\u001b[0m, \u001b[33mcategory\u001b[0m=\u001b[32m'Bottoms'\u001b[0m, \u001b[33mproduct_type\u001b[0m=\u001b[1m[\u001b[0m\u001b[32m'Skirts'\u001b[0m\u001b[1m]\u001b[0m\u001b[1m)\u001b[0m\n"
      ]
     },
     "metadata": {},
     "output_type": "display_data"
    }
   ],
   "source": [
    "from openai import AsyncOpenAI\n",
    "import instructor\n",
    "from helpers.taxonomy import process_taxonomy_file\n",
    "from rich import print\n",
    "\n",
    "# Import in our taxonomy data\n",
    "taxonomy_data = process_taxonomy_file(\"./data/taxonomy.yml\")\n",
    "\n",
    "\n",
    "async def extract_query_filters(\n",
    "    client: instructor.AsyncInstructor, query: str\n",
    ") -> QueryFilters:\n",
    "    \"\"\"\n",
    "    Extract structured filters from a natural language query using LLM.\n",
    "\n",
    "    Args:\n",
    "        query (str): Natural language query from user\n",
    "\n",
    "    Returns:\n",
    "        QueryFilters: Structured filters extracted from the query\n",
    "    \"\"\"\n",
    "    return await client.chat.completions.create(\n",
    "        model=\"gpt-4o-mini\",\n",
    "        messages=[\n",
    "            {\n",
    "                \"role\": \"system\",\n",
    "                \"content\": \"\"\"\n",
    "You are a helpful assistant that extracts user requirements from a query.\n",
    "\n",
    "Use this following taxonomy as a reference for what fields are available to you. Only use values from the provided taxonomy.\n",
    "\n",
    "<taxonomy>\n",
    "{{ taxonomy_data }}\n",
    "</taxonomy>\n",
    "            \"\"\",\n",
    "            },\n",
    "            {\"role\": \"user\", \"content\": query},\n",
    "        ],\n",
    "        context={\n",
    "            \"taxonomy_data\": taxonomy_data,\n",
    "        },\n",
    "        response_model=QueryFilters,\n",
    "    )\n",
    "\n",
    "\n",
    "client = instructor.from_openai(AsyncOpenAI())\n",
    "resp = await extract_query_filters(client, \"Need a new skirt around 40 bucks\")\n",
    "print(resp)"
   ]
  },
  {
   "cell_type": "markdown",
   "metadata": {},
   "source": [
    "Let's see how this work with another query here that uses specific attributes - in this case a short sleeved top."
   ]
  },
  {
   "cell_type": "code",
   "execution_count": 6,
   "metadata": {},
   "outputs": [
    {
     "data": {
      "text/html": [
       "<pre style=\"white-space:pre;overflow-x:auto;line-height:normal;font-family:Menlo,'DejaVu Sans Mono',consolas,'Courier New',monospace\"><span style=\"color: #800080; text-decoration-color: #800080; font-weight: bold\">QueryFilters</span><span style=\"font-weight: bold\">(</span>\n",
       "    <span style=\"color: #808000; text-decoration-color: #808000\">attributes</span>=<span style=\"font-weight: bold\">[</span><span style=\"color: #800080; text-decoration-color: #800080; font-weight: bold\">Attribute</span><span style=\"font-weight: bold\">(</span><span style=\"color: #808000; text-decoration-color: #808000\">name</span>=<span style=\"color: #008000; text-decoration-color: #008000\">'Sleeve Length'</span>, <span style=\"color: #808000; text-decoration-color: #808000\">values</span>=<span style=\"font-weight: bold\">[</span><span style=\"color: #008000; text-decoration-color: #008000\">'Short Sleeve'</span><span style=\"font-weight: bold\">])]</span>,\n",
       "    <span style=\"color: #808000; text-decoration-color: #808000\">min_price</span>=<span style=\"color: #800080; text-decoration-color: #800080; font-style: italic\">None</span>,\n",
       "    <span style=\"color: #808000; text-decoration-color: #808000\">max_price</span>=<span style=\"color: #800080; text-decoration-color: #800080; font-style: italic\">None</span>,\n",
       "    <span style=\"color: #808000; text-decoration-color: #808000\">category</span>=<span style=\"color: #008000; text-decoration-color: #008000\">'Tops'</span>,\n",
       "    <span style=\"color: #808000; text-decoration-color: #808000\">product_type</span>=<span style=\"font-weight: bold\">[</span><span style=\"color: #008000; text-decoration-color: #008000\">'T-Shirts'</span><span style=\"font-weight: bold\">]</span>\n",
       "<span style=\"font-weight: bold\">)</span>\n",
       "</pre>\n"
      ],
      "text/plain": [
       "\u001b[1;35mQueryFilters\u001b[0m\u001b[1m(\u001b[0m\n",
       "    \u001b[33mattributes\u001b[0m=\u001b[1m[\u001b[0m\u001b[1;35mAttribute\u001b[0m\u001b[1m(\u001b[0m\u001b[33mname\u001b[0m=\u001b[32m'Sleeve Length'\u001b[0m, \u001b[33mvalues\u001b[0m=\u001b[1m[\u001b[0m\u001b[32m'Short Sleeve'\u001b[0m\u001b[1m]\u001b[0m\u001b[1m)\u001b[0m\u001b[1m]\u001b[0m,\n",
       "    \u001b[33mmin_price\u001b[0m=\u001b[3;35mNone\u001b[0m,\n",
       "    \u001b[33mmax_price\u001b[0m=\u001b[3;35mNone\u001b[0m,\n",
       "    \u001b[33mcategory\u001b[0m=\u001b[32m'Tops'\u001b[0m,\n",
       "    \u001b[33mproduct_type\u001b[0m=\u001b[1m[\u001b[0m\u001b[32m'T-Shirts'\u001b[0m\u001b[1m]\u001b[0m\n",
       "\u001b[1m)\u001b[0m\n"
      ]
     },
     "metadata": {},
     "output_type": "display_data"
    }
   ],
   "source": [
    "query = \"I'm looking for a t-shirt suitable for summer that's got a short sleeve\"\n",
    "resp = await extract_query_filters(client, query)\n",
    "print(resp)"
   ]
  },
  {
   "cell_type": "markdown",
   "metadata": {},
   "source": [
    "Since these attributes are specific to the product type itself, we'll need to do a mix of post-filtering and pre-filtering to get the best results. As a result, even though we're evaluating the performance of our retrieval system up to a maximum value of 25, we'll fetch 100 items for each query and then filter them down.\n",
    "\n",
    "This helps us cast a wide enough net to ensure that we're able to retrieve the most relevant items for the user's query. \n",
    "\n",
    "Let's now see how we can combine pre-filtering (using metadata fields) with post-filtering (refining attributes) to ensure that our retrieval system returns the most relevant items."
   ]
  },
  {
   "cell_type": "code",
   "execution_count": 8,
   "metadata": {},
   "outputs": [
    {
     "name": "stderr",
     "output_type": "stream",
     "text": [
      "/Users/ivanleo/Documents/coding/ai-engineer-summit/.venv/lib/python3.10/site-packages/tqdm/auto.py:21: TqdmWarning: IProgress not found. Please update jupyter and ipywidgets. See https://ipywidgets.readthedocs.io/en/stable/user_install.html\n",
      "  from .autonotebook import tqdm as notebook_tqdm\n"
     ]
    }
   ],
   "source": [
    "import json\n",
    "from lancedb import connect\n",
    "import pandas as pd\n",
    "\n",
    "\n",
    "def retrieve_and_filter(query: str, table, filters: QueryFilters, max_k=100):\n",
    "    query_parts = []\n",
    "\n",
    "    # We do a prefilter on category,price and material since these will always be provided\n",
    "    query_parts.append(f\"category='{filters.category}'\")\n",
    "\n",
    "    if filters.min_price:\n",
    "        query_parts.append(f\"price >= {filters.min_price}\")\n",
    "    if filters.max_price:\n",
    "        query_parts.append(f\"price <= {filters.max_price}\")\n",
    "\n",
    "    query_string = \" AND \".join(query_parts)\n",
    "    items = (\n",
    "        table.search(query=query)\n",
    "        .where(query_string, prefilter=True)\n",
    "        .limit(max_k)\n",
    "        .to_list()\n",
    "    )\n",
    "\n",
    "    items = [\n",
    "        {\n",
    "            **item,\n",
    "            \"attributes\": json.loads(item[\"attributes\"]),\n",
    "        }\n",
    "        for item in items\n",
    "    ]\n",
    "\n",
    "    if filters.product_type:\n",
    "        items = [item for item in items if item[\"product_type\"] in filters.product_type]\n",
    "\n",
    "    if filters.attributes:\n",
    "        for attr in filters.attributes:\n",
    "            if not attr.values:\n",
    "                continue\n",
    "            curr_items = []\n",
    "            for item in items:\n",
    "                attr_name = attr.name\n",
    "                attr_values = attr.values\n",
    "                item_attr_values = item[\"attributes\"]\n",
    "                for item_attr in item_attr_values:\n",
    "                    if (\n",
    "                        item_attr[\"name\"] == attr_name\n",
    "                        and item_attr[\"value\"] in attr_values\n",
    "                    ):\n",
    "                        curr_items.append(item)\n",
    "                        break\n",
    "\n",
    "            items = curr_items\n",
    "\n",
    "    return items"
   ]
  },
  {
   "cell_type": "code",
   "execution_count": 9,
   "metadata": {},
   "outputs": [
    {
     "data": {
      "text/html": [
       "<div>\n",
       "<style scoped>\n",
       "    .dataframe tbody tr th:only-of-type {\n",
       "        vertical-align: middle;\n",
       "    }\n",
       "\n",
       "    .dataframe tbody tr th {\n",
       "        vertical-align: top;\n",
       "    }\n",
       "\n",
       "    .dataframe thead th {\n",
       "        text-align: right;\n",
       "    }\n",
       "</style>\n",
       "<table border=\"1\" class=\"dataframe\">\n",
       "  <thead>\n",
       "    <tr style=\"text-align: right;\">\n",
       "      <th></th>\n",
       "      <th>title</th>\n",
       "      <th>description</th>\n",
       "      <th>category</th>\n",
       "      <th>product_type</th>\n",
       "      <th>price</th>\n",
       "      <th>attributes</th>\n",
       "      <th>in_stock</th>\n",
       "    </tr>\n",
       "  </thead>\n",
       "  <tbody>\n",
       "    <tr>\n",
       "      <th>0</th>\n",
       "      <td>Graphic Print T-Shirt</td>\n",
       "      <td>Embrace casual comfort with the classic Tommy ...</td>\n",
       "      <td>Tops</td>\n",
       "      <td>T-Shirts</td>\n",
       "      <td>27.37</td>\n",
       "      <td>[{'name': 'Sleeve Length', 'value': 'Short Sle...</td>\n",
       "      <td>True</td>\n",
       "    </tr>\n",
       "    <tr>\n",
       "      <th>1</th>\n",
       "      <td>Women's Short Sleeve Logo T-Shirt</td>\n",
       "      <td>This casual short sleeve t-shirt features the ...</td>\n",
       "      <td>Tops</td>\n",
       "      <td>T-Shirts</td>\n",
       "      <td>38.77</td>\n",
       "      <td>[{'name': 'Sleeve Length', 'value': 'Short Sle...</td>\n",
       "      <td>False</td>\n",
       "    </tr>\n",
       "    <tr>\n",
       "      <th>2</th>\n",
       "      <td>Classic Women's Crew Neck T-Shirt</td>\n",
       "      <td>This timeless crew neck t-shirt offers a relax...</td>\n",
       "      <td>Tops</td>\n",
       "      <td>T-Shirts</td>\n",
       "      <td>14.60</td>\n",
       "      <td>[{'name': 'Sleeve Length', 'value': 'Short Sle...</td>\n",
       "      <td>True</td>\n",
       "    </tr>\n",
       "    <tr>\n",
       "      <th>3</th>\n",
       "      <td>Classic White Crew Neck Tee</td>\n",
       "      <td>Elevate your everyday wardrobe with this class...</td>\n",
       "      <td>Tops</td>\n",
       "      <td>T-Shirts</td>\n",
       "      <td>18.12</td>\n",
       "      <td>[{'name': 'Sleeve Length', 'value': 'Short Sle...</td>\n",
       "      <td>True</td>\n",
       "    </tr>\n",
       "    <tr>\n",
       "      <th>4</th>\n",
       "      <td>Heart Graphic Maternity T-Shirt</td>\n",
       "      <td>Embrace your pregnancy with this chic maternit...</td>\n",
       "      <td>Tops</td>\n",
       "      <td>T-Shirts</td>\n",
       "      <td>60.99</td>\n",
       "      <td>[{'name': 'Sleeve Length', 'value': 'Short Sle...</td>\n",
       "      <td>False</td>\n",
       "    </tr>\n",
       "    <tr>\n",
       "      <th>5</th>\n",
       "      <td>Navy Short Sleeve T-Shirt</td>\n",
       "      <td>Experience the perfect blend of comfort and st...</td>\n",
       "      <td>Tops</td>\n",
       "      <td>T-Shirts</td>\n",
       "      <td>63.09</td>\n",
       "      <td>[{'name': 'Sleeve Length', 'value': 'Short Sle...</td>\n",
       "      <td>False</td>\n",
       "    </tr>\n",
       "    <tr>\n",
       "      <th>6</th>\n",
       "      <td>Ribbed Short Sleeve Top</td>\n",
       "      <td>Elevate your casual wardrobe with this stylish...</td>\n",
       "      <td>Tops</td>\n",
       "      <td>T-Shirts</td>\n",
       "      <td>56.94</td>\n",
       "      <td>[{'name': 'Sleeve Length', 'value': 'Short Sle...</td>\n",
       "      <td>True</td>\n",
       "    </tr>\n",
       "    <tr>\n",
       "      <th>7</th>\n",
       "      <td>Long Sleeve Scoop Neck Top</td>\n",
       "      <td>Upgrade your basics with this chic long sleeve...</td>\n",
       "      <td>Tops</td>\n",
       "      <td>T-Shirts</td>\n",
       "      <td>15.64</td>\n",
       "      <td>[{'name': 'Sleeve Length', 'value': 'Long Slee...</td>\n",
       "      <td>True</td>\n",
       "    </tr>\n",
       "  </tbody>\n",
       "</table>\n",
       "</div>"
      ],
      "text/plain": [
       "                               title  \\\n",
       "0              Graphic Print T-Shirt   \n",
       "1  Women's Short Sleeve Logo T-Shirt   \n",
       "2  Classic Women's Crew Neck T-Shirt   \n",
       "3        Classic White Crew Neck Tee   \n",
       "4    Heart Graphic Maternity T-Shirt   \n",
       "5          Navy Short Sleeve T-Shirt   \n",
       "6            Ribbed Short Sleeve Top   \n",
       "7         Long Sleeve Scoop Neck Top   \n",
       "\n",
       "                                         description category product_type  \\\n",
       "0  Embrace casual comfort with the classic Tommy ...     Tops     T-Shirts   \n",
       "1  This casual short sleeve t-shirt features the ...     Tops     T-Shirts   \n",
       "2  This timeless crew neck t-shirt offers a relax...     Tops     T-Shirts   \n",
       "3  Elevate your everyday wardrobe with this class...     Tops     T-Shirts   \n",
       "4  Embrace your pregnancy with this chic maternit...     Tops     T-Shirts   \n",
       "5  Experience the perfect blend of comfort and st...     Tops     T-Shirts   \n",
       "6  Elevate your casual wardrobe with this stylish...     Tops     T-Shirts   \n",
       "7  Upgrade your basics with this chic long sleeve...     Tops     T-Shirts   \n",
       "\n",
       "   price                                         attributes  in_stock  \n",
       "0  27.37  [{'name': 'Sleeve Length', 'value': 'Short Sle...      True  \n",
       "1  38.77  [{'name': 'Sleeve Length', 'value': 'Short Sle...     False  \n",
       "2  14.60  [{'name': 'Sleeve Length', 'value': 'Short Sle...      True  \n",
       "3  18.12  [{'name': 'Sleeve Length', 'value': 'Short Sle...      True  \n",
       "4  60.99  [{'name': 'Sleeve Length', 'value': 'Short Sle...     False  \n",
       "5  63.09  [{'name': 'Sleeve Length', 'value': 'Short Sle...     False  \n",
       "6  56.94  [{'name': 'Sleeve Length', 'value': 'Short Sle...      True  \n",
       "7  15.64  [{'name': 'Sleeve Length', 'value': 'Long Slee...      True  "
      ]
     },
     "execution_count": 9,
     "metadata": {},
     "output_type": "execute_result"
    }
   ],
   "source": [
    "# Define test query and setup clients\n",
    "test_query = \"I want a t-shirt that is at most 70 bucks\"\n",
    "client = instructor.from_openai(AsyncOpenAI())\n",
    "\n",
    "# Connect to database\n",
    "db = connect(\"./lancedb\")\n",
    "table = db.open_table(\"items\")\n",
    "\n",
    "# Generate filters and retrieve results\n",
    "generated_filter = await extract_query_filters(client, test_query)\n",
    "results = retrieve_and_filter(test_query, table, generated_filter)\n",
    "\n",
    "# Display results as dataframe\n",
    "pd.DataFrame(results).loc[\n",
    "    :,\n",
    "    [\n",
    "        \"title\",\n",
    "        \"description\",\n",
    "        \"category\",\n",
    "        \"product_type\",\n",
    "        \"price\",\n",
    "        \"attributes\",\n",
    "        \"in_stock\",\n",
    "    ],\n",
    "]\n"
   ]
  },
  {
   "cell_type": "markdown",
   "metadata": {},
   "source": [
    "Now that we've seen how we can integrate metadata filtering with our existing retrieval system, let's benchmark its performance against our baseline semantic search system."
   ]
  },
  {
   "cell_type": "markdown",
   "metadata": {},
   "source": [
    "## Evaluating Retrieval Performance\n",
    "\n",
    "Now taht we've seen how we can integrate these metadata filters into our retrieval system , let's quantify their impact on the performance of our retrieval system. We'll do so by leveraging the same two metrics that we used in the previous notebook - recall and MRR before seeing how we might be able to improve our query understanding above.\n",
    "\n",
    "We'll do so in 3 parts\n",
    "\n",
    "1. First, we'll compute baseline MRR and Recall metrics for our current metdata filter prompt. \n",
    "2. Then we'll find specific edge cases where the filters are not working as expected and then iterate on our prompt to improve the performance of our retrieval system.\n",
    "3. Finally, we'll see how we'll be able to use metadata filtering to improve the performance of our retrieval system.\n",
    "\n",
    "### Computing a Baseline\n",
    "\n",
    "Let's start by computing the baseline performance of our current retrieval system. We'll use the same queries that we generated previously. We'll use a ThreadPoolExecutor to run our retrieval in parallel since we're using the synchronous LanceDB client.\n",
    "\n",
    "We'll then identify low-performing queries and iterate on our prompt to improve the performance of our retrieval system."
   ]
  },
  {
   "cell_type": "code",
   "execution_count": 10,
   "metadata": {},
   "outputs": [
    {
     "name": "stderr",
     "output_type": "stream",
     "text": [
      "Generating filters: 100%|██████████| 38/38 [00:00<00:00, 926648.56it/s]\n",
      "100%|██████████| 38/38 [00:18<00:00,  2.06it/s]\n",
      "Retrieving results: 100%|██████████| 38/38 [00:00<00:00, 46.58it/s]\n"
     ]
    }
   ],
   "source": [
    "import instructor\n",
    "from tqdm.asyncio import tqdm_asyncio\n",
    "from concurrent.futures import ThreadPoolExecutor\n",
    "from tqdm import tqdm\n",
    "import json\n",
    "\n",
    "# Load in queries that we generated previously\n",
    "with open(\"./data/queries.json\", \"r\") as f:\n",
    "    queries = [json.loads(line) for line in f]\n",
    "\n",
    "\n",
    "# Then run retrieval in parallel\n",
    "def retrieve_item(args):\n",
    "    query, generated_filter = args\n",
    "    results = retrieve_and_filter(query[\"query\"], table, generated_filter)\n",
    "    return {\n",
    "        \"query\": query[\"query\"],\n",
    "        \"retrieved_items\": results,\n",
    "        \"expected_items\": [query[\"id\"]],\n",
    "        \"filters\": generated_filter,\n",
    "    }\n",
    "\n",
    "\n",
    "# First generate all filters\n",
    "client = instructor.from_openai(AsyncOpenAI())\n",
    "filters = await tqdm_asyncio.gather(\n",
    "    *[\n",
    "        extract_query_filters(client, query[\"query\"])\n",
    "        for query in tqdm(queries, desc=\"Generating filters\")\n",
    "    ]\n",
    ")\n",
    "\n",
    "\n",
    "with ThreadPoolExecutor() as executor:\n",
    "    results = list(\n",
    "        tqdm(\n",
    "            executor.map(retrieve_item, zip(queries, filters)),\n",
    "            total=len(queries),\n",
    "            desc=\"Retrieving results\",\n",
    "        )\n",
    "    )\n"
   ]
  },
  {
   "cell_type": "markdown",
   "metadata": {},
   "source": [
    "Now that we've done so, we can then compute our baseline metrics for our initial prompt using mrr and recall."
   ]
  },
  {
   "cell_type": "code",
   "execution_count": 14,
   "metadata": {},
   "outputs": [
    {
     "data": {
      "text/plain": [
       "mrr@5        0.62\n",
       "mrr@10       0.63\n",
       "mrr@15       0.63\n",
       "mrr@20       0.63\n",
       "mrr@25       0.63\n",
       "recall@5     0.66\n",
       "recall@10    0.71\n",
       "recall@15    0.74\n",
       "recall@20    0.74\n",
       "recall@25    0.74\n",
       "dtype: float64"
      ]
     },
     "execution_count": 14,
     "metadata": {},
     "output_type": "execute_result"
    }
   ],
   "source": [
    "from helpers.metrics import get_metrics_at_k\n",
    "\n",
    "retrieved_items = [\n",
    "    [item[\"id\"] for item in result[\"retrieved_items\"]] for result in results\n",
    "]\n",
    "labels = [item[\"expected_items\"] for item in results]\n",
    "\n",
    "metrics = get_metrics_at_k(metrics=[\"mrr\", \"recall\"], sizes=[5, 10, 15, 20, 25])\n",
    "computed_metrics = [\n",
    "    {\n",
    "        metric: score_fn(retrieved_item_ids, desired_item)\n",
    "        for metric, score_fn in metrics.items()\n",
    "    }\n",
    "    for retrieved_item_ids, desired_item in zip(retrieved_items, labels)\n",
    "]\n",
    "df = pd.DataFrame(computed_metrics)\n",
    "df.mean().round(2)"
   ]
  },
  {
   "cell_type": "markdown",
   "metadata": {},
   "source": [
    "By computing these metrics, we can see that by using Metadata Filters, we've been able to improve the MRR of our retrieval system by a significant margin. However, we've also seen ar oughly 10% decrease in the recall, especially at higher k values.\n",
    "\n",
    "| Metric | Semantic Search | Semantic Search + Metadata Filters |\n",
    "|--------|----------------|-----------------------------------|\n",
    "| MRR@5 | 0.47 | 0.62 (+31.91%) |\n",
    "| MRR@10 | 0.49 | 0.63 (+28.57%) |\n",
    "| MRR@15 | 0.49 | 0.63 (+28.57%) |\n",
    "| MRR@20 | 0.49 | 0.63 (+28.57%) |\n",
    "| MRR@25 | 0.49 | 0.63 (+28.57%) |\n",
    "| Recall@5 | 0.63 | 0.66 (+4.76%) |\n",
    "| Recall@10 | 0.76 | 0.71 (-6.58%) |\n",
    "| Recall@15 | 0.79 | 0.74 (-6.33%) |\n",
    "| Recall@20 | 0.84 | 0.74 (-11.90%) |\n",
    "| Recall@25 | 0.84 | 0.74 (-11.90%) |\n",
    "\n",
    "Even though we're seeing gains of ~28% in MRR, we're also seeing a drop in recall at higher k values. This highlights a broader pattern in retrieval systems: improvements often come with trade-offs that need to be measured and weighed carefully. Rather than assuming more complexity always helps, we need clear metrics to guide our investments.\n",
    "\n",
    "In the next section, we'll identify some edge cases where the filters are not working as expected and then iterate on our prompt to improve the performance of our retrieval system."
   ]
  },
  {
   "cell_type": "markdown",
   "metadata": {},
   "source": [
    "### Iterating On Our Prompt\n",
    "\n",
    "Since we've saved the filters that we've generated previously, we can use them to iterate on our prompt to improve the performance of our retrieval system. Let's find an example where the filters are not working as expected and then iterate on our prompt to improve the performance of our retrieval system.\n",
    "\n",
    "\n",
    "\n"
   ]
  },
  {
   "cell_type": "code",
   "execution_count": 15,
   "metadata": {},
   "outputs": [
    {
     "data": {
      "text/html": [
       "<div>\n",
       "<style scoped>\n",
       "    .dataframe tbody tr th:only-of-type {\n",
       "        vertical-align: middle;\n",
       "    }\n",
       "\n",
       "    .dataframe tbody tr th {\n",
       "        vertical-align: top;\n",
       "    }\n",
       "\n",
       "    .dataframe thead th {\n",
       "        text-align: right;\n",
       "    }\n",
       "</style>\n",
       "<table border=\"1\" class=\"dataframe\">\n",
       "  <thead>\n",
       "    <tr style=\"text-align: right;\">\n",
       "      <th></th>\n",
       "      <th>mrr@5</th>\n",
       "      <th>mrr@10</th>\n",
       "      <th>mrr@15</th>\n",
       "      <th>mrr@20</th>\n",
       "      <th>mrr@25</th>\n",
       "      <th>recall@5</th>\n",
       "      <th>recall@10</th>\n",
       "      <th>recall@15</th>\n",
       "      <th>recall@20</th>\n",
       "      <th>recall@25</th>\n",
       "    </tr>\n",
       "  </thead>\n",
       "  <tbody>\n",
       "    <tr>\n",
       "      <th>0</th>\n",
       "      <td>0.0</td>\n",
       "      <td>0.00</td>\n",
       "      <td>0.00</td>\n",
       "      <td>0.00</td>\n",
       "      <td>0.00</td>\n",
       "      <td>0.0</td>\n",
       "      <td>0.0</td>\n",
       "      <td>0.0</td>\n",
       "      <td>0.0</td>\n",
       "      <td>0.0</td>\n",
       "    </tr>\n",
       "    <tr>\n",
       "      <th>1</th>\n",
       "      <td>0.0</td>\n",
       "      <td>0.11</td>\n",
       "      <td>0.11</td>\n",
       "      <td>0.11</td>\n",
       "      <td>0.11</td>\n",
       "      <td>0.0</td>\n",
       "      <td>1.0</td>\n",
       "      <td>1.0</td>\n",
       "      <td>1.0</td>\n",
       "      <td>1.0</td>\n",
       "    </tr>\n",
       "    <tr>\n",
       "      <th>2</th>\n",
       "      <td>1.0</td>\n",
       "      <td>1.00</td>\n",
       "      <td>1.00</td>\n",
       "      <td>1.00</td>\n",
       "      <td>1.00</td>\n",
       "      <td>1.0</td>\n",
       "      <td>1.0</td>\n",
       "      <td>1.0</td>\n",
       "      <td>1.0</td>\n",
       "      <td>1.0</td>\n",
       "    </tr>\n",
       "    <tr>\n",
       "      <th>3</th>\n",
       "      <td>1.0</td>\n",
       "      <td>1.00</td>\n",
       "      <td>1.00</td>\n",
       "      <td>1.00</td>\n",
       "      <td>1.00</td>\n",
       "      <td>1.0</td>\n",
       "      <td>1.0</td>\n",
       "      <td>1.0</td>\n",
       "      <td>1.0</td>\n",
       "      <td>1.0</td>\n",
       "    </tr>\n",
       "    <tr>\n",
       "      <th>4</th>\n",
       "      <td>0.0</td>\n",
       "      <td>0.00</td>\n",
       "      <td>0.00</td>\n",
       "      <td>0.00</td>\n",
       "      <td>0.00</td>\n",
       "      <td>0.0</td>\n",
       "      <td>0.0</td>\n",
       "      <td>0.0</td>\n",
       "      <td>0.0</td>\n",
       "      <td>0.0</td>\n",
       "    </tr>\n",
       "  </tbody>\n",
       "</table>\n",
       "</div>"
      ],
      "text/plain": [
       "   mrr@5  mrr@10  mrr@15  mrr@20  mrr@25  recall@5  recall@10  recall@15  \\\n",
       "0    0.0    0.00    0.00    0.00    0.00       0.0        0.0        0.0   \n",
       "1    0.0    0.11    0.11    0.11    0.11       0.0        1.0        1.0   \n",
       "2    1.0    1.00    1.00    1.00    1.00       1.0        1.0        1.0   \n",
       "3    1.0    1.00    1.00    1.00    1.00       1.0        1.0        1.0   \n",
       "4    0.0    0.00    0.00    0.00    0.00       0.0        0.0        0.0   \n",
       "\n",
       "   recall@20  recall@25  \n",
       "0        0.0        0.0  \n",
       "1        1.0        1.0  \n",
       "2        1.0        1.0  \n",
       "3        1.0        1.0  \n",
       "4        0.0        0.0  "
      ]
     },
     "execution_count": 15,
     "metadata": {},
     "output_type": "execute_result"
    }
   ],
   "source": [
    "df.head().round(2)"
   ]
  },
  {
   "cell_type": "markdown",
   "metadata": {},
   "source": [
    "We can see that the first and 5th item seem to have relatively low recall values. Let's take a look at the queries for these items."
   ]
  },
  {
   "cell_type": "code",
   "execution_count": 16,
   "metadata": {},
   "outputs": [
    {
     "data": {
      "text/plain": [
       "('Searching for a trendy sleeveless top with lace details for casual outings and dinner dates. Needs to be cotton and comfortable, ideally under $200.',\n",
       " QueryFilters(attributes=[Attribute(name='Sleeve Length', values=['Sleeveless']), Attribute(name='Fit', values=['Regular', 'Slim', 'Oversized'])], min_price=None, max_price=200.0, category='Tops', product_type=['T-Shirts', 'Blouses', 'Tank Tops']),\n",
       " [1])"
      ]
     },
     "execution_count": 16,
     "metadata": {},
     "output_type": "execute_result"
    }
   ],
   "source": [
    "results[0][\"query\"], results[0][\"filters\"], results[0][\"expected_items\"]"
   ]
  },
  {
   "cell_type": "markdown",
   "metadata": {},
   "source": [
    "Let's see the metadata for this specific item."
   ]
  },
  {
   "cell_type": "code",
   "execution_count": 17,
   "metadata": {},
   "outputs": [
    {
     "data": {
      "text/html": [
       "<pre style=\"white-space:pre;overflow-x:auto;line-height:normal;font-family:Menlo,'DejaVu Sans Mono',consolas,'Courier New',monospace\"><span style=\"font-weight: bold\">{</span>\n",
       "    <span style=\"color: #008000; text-decoration-color: #008000\">'id'</span>: <span style=\"color: #008080; text-decoration-color: #008080; font-weight: bold\">1</span>,\n",
       "    <span style=\"color: #008000; text-decoration-color: #008000\">'title'</span>: <span style=\"color: #008000; text-decoration-color: #008000\">'Lace Detail Sleeveless Top'</span>,\n",
       "    <span style=\"color: #008000; text-decoration-color: #008000\">'description'</span>: <span style=\"color: #008000; text-decoration-color: #008000\">\"Elevate your casual wardrobe with this elegant sleeveless top featuring intricate lace </span>\n",
       "<span style=\"color: #008000; text-decoration-color: #008000\">detailing at the neckline. Perfect for both day and night, it's crafted from a soft, breathable fabric for all-day </span>\n",
       "<span style=\"color: #008000; text-decoration-color: #008000\">comfort.\"</span>,\n",
       "    <span style=\"color: #008000; text-decoration-color: #008000\">'brand'</span>: <span style=\"color: #008000; text-decoration-color: #008000\">'H&amp;M'</span>,\n",
       "    <span style=\"color: #008000; text-decoration-color: #008000\">'category'</span>: <span style=\"color: #008000; text-decoration-color: #008000\">'Tops'</span>,\n",
       "    <span style=\"color: #008000; text-decoration-color: #008000\">'product_type'</span>: <span style=\"color: #008000; text-decoration-color: #008000\">'Tank Tops'</span>,\n",
       "    <span style=\"color: #008000; text-decoration-color: #008000\">'attributes'</span>: <span style=\"color: #008000; text-decoration-color: #008000\">'[{\"name\": \"Sleeve Length\", \"value\": \"Sleeveless\"}, {\"name\": \"Neckline\", \"value\": \"Crew Neck\"}]'</span>,\n",
       "    <span style=\"color: #008000; text-decoration-color: #008000\">'material'</span>: <span style=\"color: #008000; text-decoration-color: #008000\">'Cotton'</span>,\n",
       "    <span style=\"color: #008000; text-decoration-color: #008000\">'pattern'</span>: <span style=\"color: #008000; text-decoration-color: #008000\">'Solid'</span>,\n",
       "    <span style=\"color: #008000; text-decoration-color: #008000\">'price'</span>: <span style=\"color: #008080; text-decoration-color: #008080; font-weight: bold\">181.04</span>,\n",
       "    <span style=\"color: #008000; text-decoration-color: #008000\">'vector'</span>: <span style=\"color: #800080; text-decoration-color: #800080; font-weight: bold\">array</span><span style=\"font-weight: bold\">([</span> <span style=\"color: #008080; text-decoration-color: #008080; font-weight: bold\">0.09288761</span>,  <span style=\"color: #008080; text-decoration-color: #008080; font-weight: bold\">0.04094775</span>, <span style=\"color: #008080; text-decoration-color: #008080; font-weight: bold\">-0.00205971</span>, <span style=\"color: #808000; text-decoration-color: #808000\">...</span>, <span style=\"color: #008080; text-decoration-color: #008080; font-weight: bold\">-0.00216066</span>,\n",
       "        <span style=\"color: #008080; text-decoration-color: #008080; font-weight: bold\">0.02410295</span>, <span style=\"color: #008080; text-decoration-color: #008080; font-weight: bold\">-0.02825646</span><span style=\"font-weight: bold\">]</span>, <span style=\"color: #808000; text-decoration-color: #808000\">shape</span>=<span style=\"font-weight: bold\">(</span><span style=\"color: #008080; text-decoration-color: #008080; font-weight: bold\">1536</span>,<span style=\"font-weight: bold\">)</span>, <span style=\"color: #808000; text-decoration-color: #808000\">dtype</span>=<span style=\"color: #800080; text-decoration-color: #800080\">float32</span><span style=\"font-weight: bold\">)</span>,\n",
       "    <span style=\"color: #008000; text-decoration-color: #008000\">'in_stock'</span>: <span style=\"color: #ff0000; text-decoration-color: #ff0000; font-style: italic\">False</span>\n",
       "<span style=\"font-weight: bold\">}</span>\n",
       "</pre>\n"
      ],
      "text/plain": [
       "\u001b[1m{\u001b[0m\n",
       "    \u001b[32m'id'\u001b[0m: \u001b[1;36m1\u001b[0m,\n",
       "    \u001b[32m'title'\u001b[0m: \u001b[32m'Lace Detail Sleeveless Top'\u001b[0m,\n",
       "    \u001b[32m'description'\u001b[0m: \u001b[32m\"Elevate your casual wardrobe with this elegant sleeveless top featuring intricate lace \u001b[0m\n",
       "\u001b[32mdetailing at the neckline. Perfect for both day and night, it's crafted from a soft, breathable fabric for all-day \u001b[0m\n",
       "\u001b[32mcomfort.\"\u001b[0m,\n",
       "    \u001b[32m'brand'\u001b[0m: \u001b[32m'H&M'\u001b[0m,\n",
       "    \u001b[32m'category'\u001b[0m: \u001b[32m'Tops'\u001b[0m,\n",
       "    \u001b[32m'product_type'\u001b[0m: \u001b[32m'Tank Tops'\u001b[0m,\n",
       "    \u001b[32m'attributes'\u001b[0m: \u001b[32m'\u001b[0m\u001b[32m[\u001b[0m\u001b[32m{\u001b[0m\u001b[32m\"name\": \"Sleeve Length\", \"value\": \"Sleeveless\"\u001b[0m\u001b[32m}\u001b[0m\u001b[32m, \u001b[0m\u001b[32m{\u001b[0m\u001b[32m\"name\": \"Neckline\", \"value\": \"Crew Neck\"\u001b[0m\u001b[32m}\u001b[0m\u001b[32m]\u001b[0m\u001b[32m'\u001b[0m,\n",
       "    \u001b[32m'material'\u001b[0m: \u001b[32m'Cotton'\u001b[0m,\n",
       "    \u001b[32m'pattern'\u001b[0m: \u001b[32m'Solid'\u001b[0m,\n",
       "    \u001b[32m'price'\u001b[0m: \u001b[1;36m181.04\u001b[0m,\n",
       "    \u001b[32m'vector'\u001b[0m: \u001b[1;35marray\u001b[0m\u001b[1m(\u001b[0m\u001b[1m[\u001b[0m \u001b[1;36m0.09288761\u001b[0m,  \u001b[1;36m0.04094775\u001b[0m, \u001b[1;36m-0.00205971\u001b[0m, \u001b[33m...\u001b[0m, \u001b[1;36m-0.00216066\u001b[0m,\n",
       "        \u001b[1;36m0.02410295\u001b[0m, \u001b[1;36m-0.02825646\u001b[0m\u001b[1m]\u001b[0m, \u001b[33mshape\u001b[0m=\u001b[1m(\u001b[0m\u001b[1;36m1536\u001b[0m,\u001b[1m)\u001b[0m, \u001b[33mdtype\u001b[0m=\u001b[35mfloat32\u001b[0m\u001b[1m)\u001b[0m,\n",
       "    \u001b[32m'in_stock'\u001b[0m: \u001b[3;91mFalse\u001b[0m\n",
       "\u001b[1m}\u001b[0m\n"
      ]
     },
     "metadata": {},
     "output_type": "display_data"
    }
   ],
   "source": [
    "row = table.to_pandas()\n",
    "item = row[row[\"id\"] == 1].to_dict(\"records\")[0]\n",
    "print(item)"
   ]
  },
  {
   "cell_type": "markdown",
   "metadata": {},
   "source": [
    "We can see here that we've correctly identified the category of the item as a tank-top but we've mistakenly added an additional attribute of `fit` to the item here which has resulted in it being filtered out. Let's try modifying our prompt to ensure that we don't add any additional attributes to the item."
   ]
  },
  {
   "cell_type": "code",
   "execution_count": 18,
   "metadata": {},
   "outputs": [],
   "source": [
    "import instructor\n",
    "\n",
    "\n",
    "async def improved_extract_query_filters(\n",
    "    client: instructor.AsyncInstructor, query: str\n",
    ") -> QueryFilters:\n",
    "    return await client.chat.completions.create(\n",
    "        model=\"gpt-4o-mini\",\n",
    "        messages=[\n",
    "            {\n",
    "                \"role\": \"system\",\n",
    "                \"content\": \"\"\"\n",
    "You are a helpful assistant that extracts user requirements from a query.\n",
    "\n",
    "Use this following taxonomy as a reference for what fields are available to you. Only use values from the provided taxonomy.\n",
    "\n",
    "<taxonomy>\n",
    "{{ taxonomy_data }}\n",
    "</taxonomy>\n",
    "\n",
    "Guidelines:\n",
    "\n",
    "- If a specific filter isn't needed, just return an empty list or null value for that\n",
    "- If the attribute exists on multiple types, make sure that you only look at the specific types listed under the category you have chosen\n",
    "- Make sure that you've chosen from the right attribute values for each attribute type. This is very important.\n",
    "\n",
    "Here are some general rules about how to generate these filters\n",
    "1. Dresses and Skirts should always go together\n",
    "2. Potential Filters should only be added if the user has explicitly mentioned it. When selecting filter values, aim to make them more flexible. For instance, if the user is asking for a well fitting top, we can consider both regular and relaxed fit. If another attribute value might be a good match for the user's query, include it too. \n",
    "3. If the user hasn't mentioned the attribute for the product type in his query, don't include that attribute in the filter. For instance if the user only mentions that they want something that's comfortable, don't include a filter for the fit of the product.\n",
    "4. If the user mentions a rough range ( eg. around 50 bucks), let's just use a buffer of 30 bucks on each side ( Eg. 20-80)\n",
    "5. If the user mentions a vague price (Eg. I have a high budget), just set max price to 1000\n",
    "6. Make sure to look carefully at the user's query to determine if they've specified a specific fit - eg. regular, relaxed, cropped. ( Relaxed and Relaxed should always go together)\n",
    "\n",
    "\"\"\",\n",
    "            },\n",
    "            {\"role\": \"user\", \"content\": query},\n",
    "        ],\n",
    "        context={\n",
    "            \"taxonomy_data\": taxonomy_data,\n",
    "        },\n",
    "        response_model=QueryFilters,\n",
    "    )\n"
   ]
  },
  {
   "cell_type": "code",
   "execution_count": 24,
   "metadata": {},
   "outputs": [
    {
     "data": {
      "text/html": [
       "<pre style=\"white-space:pre;overflow-x:auto;line-height:normal;font-family:Menlo,'DejaVu Sans Mono',consolas,'Courier New',monospace\"><span style=\"color: #800080; text-decoration-color: #800080; font-weight: bold\">QueryFilters</span><span style=\"font-weight: bold\">(</span>\n",
       "    <span style=\"color: #808000; text-decoration-color: #808000\">attributes</span>=<span style=\"font-weight: bold\">[</span><span style=\"color: #800080; text-decoration-color: #800080; font-weight: bold\">Attribute</span><span style=\"font-weight: bold\">(</span><span style=\"color: #808000; text-decoration-color: #808000\">name</span>=<span style=\"color: #008000; text-decoration-color: #008000\">'Sleeve Length'</span>, <span style=\"color: #808000; text-decoration-color: #808000\">values</span>=<span style=\"font-weight: bold\">[</span><span style=\"color: #008000; text-decoration-color: #008000\">'Sleeveless'</span><span style=\"font-weight: bold\">])]</span>,\n",
       "    <span style=\"color: #808000; text-decoration-color: #808000\">min_price</span>=<span style=\"color: #800080; text-decoration-color: #800080; font-style: italic\">None</span>,\n",
       "    <span style=\"color: #808000; text-decoration-color: #808000\">max_price</span>=<span style=\"color: #008080; text-decoration-color: #008080; font-weight: bold\">200.0</span>,\n",
       "    <span style=\"color: #808000; text-decoration-color: #808000\">category</span>=<span style=\"color: #008000; text-decoration-color: #008000\">'Tops'</span>,\n",
       "    <span style=\"color: #808000; text-decoration-color: #808000\">product_type</span>=<span style=\"font-weight: bold\">[</span><span style=\"color: #008000; text-decoration-color: #008000\">'T-Shirts'</span>, <span style=\"color: #008000; text-decoration-color: #008000\">'Blouses'</span>, <span style=\"color: #008000; text-decoration-color: #008000\">'Sweaters'</span>, <span style=\"color: #008000; text-decoration-color: #008000\">'Cardigans'</span>, <span style=\"color: #008000; text-decoration-color: #008000\">'Tank Tops'</span>, <span style=\"color: #008000; text-decoration-color: #008000\">'Hoodies'</span>, <span style=\"color: #008000; text-decoration-color: #008000\">'Sweatshirts'</span><span style=\"font-weight: bold\">]</span>\n",
       "<span style=\"font-weight: bold\">)</span>\n",
       "</pre>\n"
      ],
      "text/plain": [
       "\u001b[1;35mQueryFilters\u001b[0m\u001b[1m(\u001b[0m\n",
       "    \u001b[33mattributes\u001b[0m=\u001b[1m[\u001b[0m\u001b[1;35mAttribute\u001b[0m\u001b[1m(\u001b[0m\u001b[33mname\u001b[0m=\u001b[32m'Sleeve Length'\u001b[0m, \u001b[33mvalues\u001b[0m=\u001b[1m[\u001b[0m\u001b[32m'Sleeveless'\u001b[0m\u001b[1m]\u001b[0m\u001b[1m)\u001b[0m\u001b[1m]\u001b[0m,\n",
       "    \u001b[33mmin_price\u001b[0m=\u001b[3;35mNone\u001b[0m,\n",
       "    \u001b[33mmax_price\u001b[0m=\u001b[1;36m200\u001b[0m\u001b[1;36m.0\u001b[0m,\n",
       "    \u001b[33mcategory\u001b[0m=\u001b[32m'Tops'\u001b[0m,\n",
       "    \u001b[33mproduct_type\u001b[0m=\u001b[1m[\u001b[0m\u001b[32m'T-Shirts'\u001b[0m, \u001b[32m'Blouses'\u001b[0m, \u001b[32m'Sweaters'\u001b[0m, \u001b[32m'Cardigans'\u001b[0m, \u001b[32m'Tank Tops'\u001b[0m, \u001b[32m'Hoodies'\u001b[0m, \u001b[32m'Sweatshirts'\u001b[0m\u001b[1m]\u001b[0m\n",
       "\u001b[1m)\u001b[0m\n"
      ]
     },
     "metadata": {},
     "output_type": "display_data"
    }
   ],
   "source": [
    "from rich import print\n",
    "\n",
    "query = \"Searching for a trendy sleeveless top with lace details for casual outings and dinner dates. Needs to be cotton and comfortable, ideally under $200.\"\n",
    "print(await improved_extract_query_filters(client, query))"
   ]
  },
  {
   "cell_type": "markdown",
   "metadata": {},
   "source": [
    "We can see that with this new prompt, we're able to generate a more accurate filter. More specifically, we're no longer applying the `fit` filter without the user explicitly specifying it. \n",
    "\n",
    "Let's now take this new and improved prompt and see how it performs on our dataset."
   ]
  },
  {
   "cell_type": "code",
   "execution_count": 25,
   "metadata": {},
   "outputs": [
    {
     "name": "stderr",
     "output_type": "stream",
     "text": [
      "Generating filters: 100%|██████████| 38/38 [00:00<00:00, 777480.74it/s]\n",
      "100%|██████████| 38/38 [00:06<00:00,  5.78it/s]\n",
      "Retrieving results: 100%|██████████| 38/38 [00:05<00:00,  6.76it/s]\n"
     ]
    }
   ],
   "source": [
    "import instructor\n",
    "from tqdm.asyncio import tqdm_asyncio\n",
    "from concurrent.futures import ThreadPoolExecutor\n",
    "from tqdm import tqdm\n",
    "import json\n",
    "\n",
    "# Load in queries that we generated previously\n",
    "with open(\"./data/queries.json\", \"r\") as f:\n",
    "    queries = [json.loads(line) for line in f]\n",
    "\n",
    "\n",
    "# Then run retrieval in parallel\n",
    "def retrieve_item(args):\n",
    "    query, generated_filter = args\n",
    "    results = retrieve_and_filter(query[\"query\"], table, generated_filter)\n",
    "    return {\n",
    "        \"query\": query[\"query\"],\n",
    "        \"retrieved_items\": results,\n",
    "        \"expected_items\": [query[\"id\"]],\n",
    "        \"filters\": generated_filter,\n",
    "    }\n",
    "\n",
    "\n",
    "# First generate all filters\n",
    "client = instructor.from_openai(AsyncOpenAI())\n",
    "filters = await tqdm_asyncio.gather(\n",
    "    *[\n",
    "        improved_extract_query_filters(client, query[\"query\"])\n",
    "        for query in tqdm(queries, desc=\"Generating filters\")\n",
    "    ]\n",
    ")\n",
    "\n",
    "\n",
    "with ThreadPoolExecutor() as executor:\n",
    "    results = list(\n",
    "        tqdm(\n",
    "            executor.map(retrieve_item, zip(queries, filters)),\n",
    "            total=len(queries),\n",
    "            desc=\"Retrieving results\",\n",
    "        )\n",
    "    )\n"
   ]
  },
  {
   "cell_type": "code",
   "execution_count": 21,
   "metadata": {},
   "outputs": [
    {
     "data": {
      "text/plain": [
       "mrr@5        0.728070\n",
       "mrr@10       0.739140\n",
       "mrr@15       0.739140\n",
       "mrr@20       0.739140\n",
       "mrr@25       0.739140\n",
       "recall@5     0.789474\n",
       "recall@10    0.868421\n",
       "recall@15    0.868421\n",
       "recall@20    0.868421\n",
       "recall@25    0.868421\n",
       "dtype: float64"
      ]
     },
     "execution_count": 21,
     "metadata": {},
     "output_type": "execute_result"
    }
   ],
   "source": [
    "from helpers.metrics import get_metrics_at_k\n",
    "\n",
    "retrieved_items = [\n",
    "    [item[\"id\"] for item in result[\"retrieved_items\"]] for result in results\n",
    "]\n",
    "labels = [item[\"expected_items\"] for item in results]\n",
    "\n",
    "metrics = get_metrics_at_k(metrics=[\"mrr\", \"recall\"], sizes=[5, 10, 15, 20, 25])\n",
    "computed_metrics = [\n",
    "    {\n",
    "        metric: score_fn(retrieved_item_ids, desired_item)\n",
    "        for metric, score_fn in metrics.items()\n",
    "    }\n",
    "    for retrieved_item_ids, desired_item in zip(retrieved_items, labels)\n",
    "]\n",
    "df = pd.DataFrame(computed_metrics)\n",
    "df.mean()"
   ]
  },
  {
   "cell_type": "markdown",
   "metadata": {},
   "source": [
    "With this new and improved prompt, we've been able to improve the MRR of our retrieval system by a significant margin.\n",
    "\n",
    "| Metric     | Semantic Search | Semantic Search + Metadata Filters | Semantic Search + Improved Metadata Filters |\n",
    "|------------|----------------|----------------------|-------------------------------|\n",
    "| mrr@5      | 0.47          | 0.62 (+31.91%)      | 0.73 (+55.32%)              |\n",
    "| mrr@10     | 0.49          | 0.63 (+28.57%)      | 0.74 (+51.02%)              |\n",
    "| mrr@15     | 0.49          | 0.63 (+28.57%)      | 0.74 (+51.02%)              |\n",
    "| mrr@20     | 0.49          | 0.63 (+28.57%)      | 0.74 (+51.02%)              |\n",
    "| mrr@25     | 0.49          | 0.63 (+28.57%)      | 0.74 (+51.02%)              |\n",
    "| recall@5   | 0.63          | 0.66 (+4.76%)       | 0.79 (+25.40%)              |\n",
    "| recall@10  | 0.76          | 0.71 (-6.58%)       | 0.87 (+14.47%)              |\n",
    "| recall@15  | 0.79          | 0.74 (-6.33%)       | 0.87 (+10.05%)              |\n",
    "| recall@20  | 0.84          | 0.74 (-11.90%)      | 0.87 (+3.57%)               |\n",
    "| recall@25  | 0.84          | 0.74 (-11.90%)      | 0.87 (+3.57%)               |\n",
    "\n",
    "By having clear objective metrics for our retrieval system, we were able to identify specific issues with our retrieval pipeline and iterate on our prompt to tackle those specific issues. We could then quantify the improvement that each of these individual changes had in terms of Recal and MRR.\n",
    "\n",
    "This is a huge step forward, and really highlights the importance of having a system in place to be able to understand the impact of each component of our system. As our pipelines grow in complexity, we need to know clearly the latency and performance impact of each component. \n",
    "\n",
    "In our case here, if the latency hit of the metadata filters were too high, we could have just used semantic search alone if we wre ok with the drop in recall. We could use a larger value of `k` for instance, using k=25 which almost matches the k=5 of metadata filters and semantic search."
   ]
  },
  {
   "cell_type": "markdown",
   "metadata": {},
   "source": [
    "## Using LLMs to generate Metadata\n",
    "\n",
    "In many real-world cases, beyond basic fields like date or author, there may not be detailed tags or summaries available. This is where large language models (LLMs) can step in to generate metadata and enrich your document representations. This is particularly useful when expanding our taxonomy to new fields such as occasions without extensive manual labeling\n",
    "\n",
    "While human annotators can be used to generate metadata for our items, they are often expensive and time consuming to train. Additionally, ensuring consistecy across annotators can be a challenge. We can combine the best of both worlds by using LLMs to generate metadata for our items initially, and then using human annotators to validate the labels. Over time as we gain more confidence in the LLM's ability to generate accurate metadata, we can use it to generate metadata for a larger portion of our items.\n",
    "\n",
    "### Defining Our Taxonomy\n",
    "\n",
    "By using a visual language model like GPT-4o, we can automatically generate metadata—such as identifying the occasions an outfit is suitable for. This extra layer of information can improve search relevance and help users find items that match their needs, even when manual tagging is limited\n",
    "\n",
    "We'll start with a limited set of occasions - Weddings, Casual Night Outs, Date Nights and Work etc but this could be scaled out to a  much larger set of potential other types of metadata fields."
   ]
  },
  {
   "cell_type": "code",
   "execution_count": 26,
   "metadata": {},
   "outputs": [],
   "source": [
    "occasions = [\n",
    "    \"Weddings\",\n",
    "    \"Casual Outing\",\n",
    "    \"Date Night\",\n",
    "    \"Work\",\n",
    "    \"Party\",\n",
    "    \"Brunch\",\n",
    "    \"Travel\",\n",
    "    \"Interview\",\n",
    "    \"Cocktail Event\",\n",
    "]"
   ]
  },
  {
   "cell_type": "markdown",
   "metadata": {},
   "source": [
    "### Vision Language Models\n",
    "\n",
    "Let's first take a look at the two outfits that we're looking to add to our collection. Notice how each image corresponds to a different outfit style. Since a Vision Language Model is able to understand the visual content of the image, it's able to generate a label for the occasion(s) that each of these outfits are suitable for.\n"
   ]
  },
  {
   "cell_type": "code",
   "execution_count": 32,
   "metadata": {},
   "outputs": [
    {
     "data": {
      "text/html": [
       "\n",
       "    <div style=\"display: flex; justify-content: center; gap: 100px;\">\n",
       "        <div>\n",
       "            <p>Image 1:</p>\n",
       "            <img src=\"assets/img1.jpg\" width=\"300\" height=\"400\"/>\n",
       "        </div>\n",
       "        <div>\n",
       "            <p>Image 2:</p>\n",
       "            <img src=\"assets/img2.jpg\" width=\"300\" height=\"400\"/>\n",
       "        </div>\n",
       "    </div>\n"
      ],
      "text/plain": [
       "<IPython.core.display.HTML object>"
      ]
     },
     "metadata": {},
     "output_type": "display_data"
    }
   ],
   "source": [
    "from IPython.display import Image, display\n",
    "from IPython.display import HTML\n",
    "\n",
    "# Display the two images side by side using HTML\n",
    "display(\n",
    "    HTML(\"\"\"\n",
    "    <div style=\"display: flex; justify-content: center; gap: 100px;\">\n",
    "        <div>\n",
    "            <p>Image 1:</p>\n",
    "            <img src=\"assets/img1.jpg\" width=\"300\" height=\"400\"/>\n",
    "        </div>\n",
    "        <div>\n",
    "            <p>Image 2:</p>\n",
    "            <img src=\"assets/img2.jpg\" width=\"300\" height=\"400\"/>\n",
    "        </div>\n",
    "    </div>\n",
    "\"\"\")\n",
    ")\n"
   ]
  },
  {
   "cell_type": "markdown",
   "metadata": {},
   "source": [
    "We can see that the two outfits above are suitable for two very different occasions. \n",
    "\n",
    "One is definitely much more casual than the other. Let's see how we can use a visual language model like GPT-4o to help us generate metadata for our items."
   ]
  },
  {
   "cell_type": "code",
   "execution_count": 37,
   "metadata": {},
   "outputs": [],
   "source": [
    "from pydantic import BaseModel\n",
    "from typing import Literal\n",
    "\n",
    "\n",
    "class Occasions(BaseModel):\n",
    "    occasions: list[\n",
    "        Literal[\n",
    "            \"Weddings\",\n",
    "            \"Casual Outing\",\n",
    "            \"Date Night\",\n",
    "            \"Work\",\n",
    "            \"Party\",\n",
    "            \"Brunch\",\n",
    "            \"Travel\",\n",
    "            \"Interview\",\n",
    "            \"Cocktail Event\",\n",
    "        ]\n",
    "    ]"
   ]
  },
  {
   "cell_type": "code",
   "execution_count": 38,
   "metadata": {},
   "outputs": [
    {
     "data": {
      "text/html": [
       "<pre style=\"white-space:pre;overflow-x:auto;line-height:normal;font-family:Menlo,'DejaVu Sans Mono',consolas,'Courier New',monospace\"><span style=\"color: #800080; text-decoration-color: #800080; font-weight: bold\">Occasions</span><span style=\"font-weight: bold\">(</span><span style=\"color: #808000; text-decoration-color: #808000\">occasions</span>=<span style=\"font-weight: bold\">[</span><span style=\"color: #008000; text-decoration-color: #008000\">'Casual Outing'</span>, <span style=\"color: #008000; text-decoration-color: #008000\">'Date Night'</span>, <span style=\"color: #008000; text-decoration-color: #008000\">'Brunch'</span>, <span style=\"color: #008000; text-decoration-color: #008000\">'Travel'</span>, <span style=\"color: #008000; text-decoration-color: #008000\">'Party'</span><span style=\"font-weight: bold\">])</span>\n",
       "</pre>\n"
      ],
      "text/plain": [
       "\u001b[1;35mOccasions\u001b[0m\u001b[1m(\u001b[0m\u001b[33moccasions\u001b[0m=\u001b[1m[\u001b[0m\u001b[32m'Casual Outing'\u001b[0m, \u001b[32m'Date Night'\u001b[0m, \u001b[32m'Brunch'\u001b[0m, \u001b[32m'Travel'\u001b[0m, \u001b[32m'Party'\u001b[0m\u001b[1m]\u001b[0m\u001b[1m)\u001b[0m\n"
      ]
     },
     "metadata": {},
     "output_type": "display_data"
    }
   ],
   "source": [
    "from openai import OpenAI\n",
    "\n",
    "client = instructor.from_openai(OpenAI())\n",
    "\n",
    "resp = client.chat.completions.create(\n",
    "    model=\"gpt-4o-mini\",\n",
    "    messages=[\n",
    "        {\n",
    "            \"role\": \"system\",\n",
    "            \"content\": \"You are a helpful assistant that generates metadata for items. Identify what occasions the following outfit could be worn for\",\n",
    "        },\n",
    "        {\n",
    "            \"role\": \"user\",\n",
    "            \"content\": [\n",
    "                instructor.Image.from_path(\"assets/img1.jpg\"),\n",
    "            ],\n",
    "        },\n",
    "    ],\n",
    "    response_model=Occasions,\n",
    ")\n",
    "\n",
    "print(resp)"
   ]
  },
  {
   "cell_type": "code",
   "execution_count": 39,
   "metadata": {},
   "outputs": [
    {
     "data": {
      "text/html": [
       "<pre style=\"white-space:pre;overflow-x:auto;line-height:normal;font-family:Menlo,'DejaVu Sans Mono',consolas,'Courier New',monospace\"><span style=\"color: #800080; text-decoration-color: #800080; font-weight: bold\">Occasions</span><span style=\"font-weight: bold\">(</span><span style=\"color: #808000; text-decoration-color: #808000\">occasions</span>=<span style=\"font-weight: bold\">[</span><span style=\"color: #008000; text-decoration-color: #008000\">'Casual Outing'</span>, <span style=\"color: #008000; text-decoration-color: #008000\">'Date Night'</span>, <span style=\"color: #008000; text-decoration-color: #008000\">'Party'</span>, <span style=\"color: #008000; text-decoration-color: #008000\">'Cocktail Event'</span><span style=\"font-weight: bold\">])</span>\n",
       "</pre>\n"
      ],
      "text/plain": [
       "\u001b[1;35mOccasions\u001b[0m\u001b[1m(\u001b[0m\u001b[33moccasions\u001b[0m=\u001b[1m[\u001b[0m\u001b[32m'Casual Outing'\u001b[0m, \u001b[32m'Date Night'\u001b[0m, \u001b[32m'Party'\u001b[0m, \u001b[32m'Cocktail Event'\u001b[0m\u001b[1m]\u001b[0m\u001b[1m)\u001b[0m\n"
      ]
     },
     "metadata": {},
     "output_type": "display_data"
    }
   ],
   "source": [
    "from openai import OpenAI\n",
    "\n",
    "client = instructor.from_openai(OpenAI())\n",
    "\n",
    "resp = client.chat.completions.create(\n",
    "    model=\"gpt-4o-mini\",\n",
    "    messages=[\n",
    "        {\n",
    "            \"role\": \"system\",\n",
    "            \"content\": \"You are a helpful assistant that generates metadata for items. Identify what occasions the following outfit could be worn for\",\n",
    "        },\n",
    "        {\n",
    "            \"role\": \"user\",\n",
    "            \"content\": [\n",
    "                instructor.Image.from_path(\"assets/img2.jpg\"),\n",
    "            ],\n",
    "        },\n",
    "    ],\n",
    "    response_model=Occasions,\n",
    ")\n",
    "\n",
    "print(resp)"
   ]
  },
  {
   "cell_type": "markdown",
   "metadata": {},
   "source": [
    "This approach not only scales the metadata annotation process but also opens the door to richer embeddings and more nuanced search filters"
   ]
  },
  {
   "cell_type": "markdown",
   "metadata": {},
   "source": [
    "## Conclusion\n",
    "\n",
    "In our first notebook, we talked briefly about why a systematic approach to building out RAG systems was important and some of the limitations of naive semantic search. We then expanded on this in the second notebook where we looked at key metrics that we could use to evaluate and improve our retrieval system. In this specific notebook itself, we then expanded on that by exploring the use of LLM-generated metadata to enhance retrieval quanity by aligning results with implicit user filters, quantifying this improvement using the same metrics against the baseline we computed for semantic search.\n",
    "\n",
    "This underscores the importance of a systematic approach to building out RAG systems. It's not enough to just throw a bunch of data at an embedding model and hope for the best. Instead, we need to be able to make decisions about what features to invest in based on objective metrics and data. \n",
    "\n",
    "Rather than relying on intuition, we need systematic ways to measure impact and guide investments. This notebook showed one piece of the puzzle - check out [improvingrag.com](https://improvingrag.com) for a comprehensive guide to building better RAG systems. We'll cover everything from smart query routing to UX design for feedback collection to leveraging contrastive learning for improved retrieval.\n",
    "\n",
    "Stop settling for \"Looks Good to Me\" and start building better systems today."
   ]
  }
 ],
 "metadata": {
  "kernelspec": {
   "display_name": ".venv",
   "language": "python",
   "name": "python3"
  },
  "language_info": {
   "codemirror_mode": {
    "name": "ipython",
    "version": 3
   },
   "file_extension": ".py",
   "mimetype": "text/x-python",
   "name": "python",
   "nbconvert_exporter": "python",
   "pygments_lexer": "ipython3",
   "version": "3.10.15"
  }
 },
 "nbformat": 4,
 "nbformat_minor": 2
}
